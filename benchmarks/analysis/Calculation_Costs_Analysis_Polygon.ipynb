{
 "cells": [
  {
   "cell_type": "markdown",
   "id": "a54c78c4-ede3-439a-8829-ee9e9e4db94e",
   "metadata": {},
   "source": [
    "# Calculation of Costs Polygon Analysis\n"
   ]
  },
  {
   "cell_type": "markdown",
   "id": "b05890ff-0f4f-4096-8738-232397787165",
   "metadata": {},
   "source": [
    "### EC2 - local\n",
    "Instance type: r5.2xlarge\n",
    "Price: 0,504 USD / H\n",
    "\n"
   ]
  },
  {
   "cell_type": "code",
   "execution_count": 16,
   "id": "fb4795bb-74f9-499c-991e-b48f3709af45",
   "metadata": {},
   "outputs": [
    {
     "data": {
      "text/plain": [
       "'Costs per request: 0.00000280000000000000'"
      ]
     },
     "execution_count": 16,
     "metadata": {},
     "output_type": "execute_result"
    }
   ],
   "source": [
    "requests_per_second = 50\n",
    "requests_per_hour = requests_per_second * 60 * 60\n",
    "costs_per_request_ec2 = 0.504 / requests_per_hour\n",
    "'Costs per request: {0:.20f}'.format(costs_per_request_ec2)"
   ]
  },
  {
   "cell_type": "markdown",
   "id": "79bb013a-43a6-484a-b7f6-7fe77a478db2",
   "metadata": {},
   "source": [
    "### Lambda\n",
    "Price: 0,0000166667 USD / Gigabyte-Second \n",
    "\n",
    "Price: 0,20 USD pro 1 Mio. Requests\n",
    "\n",
    "Memory: 1024 MB == 1 GB\n",
    "\n",
    "Billed Duration: ~ 150 ms\n",
    "\n",
    "Api Gateway Price: 1,20 USD / Million"
   ]
  },
  {
   "cell_type": "code",
   "execution_count": 14,
   "id": "a0b56006-a447-4117-8494-4beb39d1e455",
   "metadata": {},
   "outputs": [
    {
     "name": "stdout",
     "output_type": "stream",
     "text": [
      "Costs per request without api gateway costs: 0.00000253333800000000\n",
      "Costs per request with api gateway costs: 0.00000373333800000000\n"
     ]
    }
   ],
   "source": [
    "price_per_ms_exectution = 0.0000166667 / 1000 # Price per MS. Our Function runs with 1 GB thats why we dont care about GB. \n",
    "\n",
    "price_per_request_constant = 0.2 / 1000000 # Constant Price per requests \n",
    "\n",
    "price_per_request_execution = price_per_ms_exectution * 140 # Billed duration around 140 ms --> cloudwatch logs \n",
    "\n",
    "price_per_request_api_gw = 1.2 / 1000000 # Api Gateway Price: 1,20 USD / Million\n",
    "\n",
    "price_per_request_lambda = price_per_request_constant + price_per_request_execution #+ price_per_request_api_gw\n",
    "\n",
    "print('Costs per request without api gateway costs: {0:.20f}'.format(price_per_request_lambda))\n",
    "\n",
    "print('Costs per request with api gateway costs: {0:.20f}'.format(price_per_request_lambda + price_per_request_api_gw))"
   ]
  },
  {
   "cell_type": "markdown",
   "id": "0abe4a93-f12b-402c-bf89-bc93c0bcab82",
   "metadata": {},
   "source": [
    "## Ratio"
   ]
  },
  {
   "cell_type": "code",
   "execution_count": 17,
   "id": "d569f77c-0122-4d15-ba3f-d1a8a214d6c7",
   "metadata": {},
   "outputs": [
    {
     "data": {
      "text/plain": [
       "1.1052611218874069"
      ]
     },
     "execution_count": 17,
     "metadata": {},
     "output_type": "execute_result"
    }
   ],
   "source": [
    "costs_per_request_ec2 / price_per_request_lambda "
   ]
  },
  {
   "cell_type": "code",
   "execution_count": null,
   "id": "be9b6729-f8b6-4135-8be2-8a751182a7f1",
   "metadata": {},
   "outputs": [],
   "source": []
  }
 ],
 "metadata": {
  "kernelspec": {
   "display_name": "Python 3 (ipykernel)",
   "language": "python",
   "name": "python3"
  },
  "language_info": {
   "codemirror_mode": {
    "name": "ipython",
    "version": 3
   },
   "file_extension": ".py",
   "mimetype": "text/x-python",
   "name": "python",
   "nbconvert_exporter": "python",
   "pygments_lexer": "ipython3",
   "version": "3.8.10"
  }
 },
 "nbformat": 4,
 "nbformat_minor": 5
}
