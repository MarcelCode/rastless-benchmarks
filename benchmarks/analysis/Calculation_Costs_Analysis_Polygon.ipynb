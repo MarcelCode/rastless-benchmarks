{
 "cells": [
  {
   "cell_type": "markdown",
   "id": "a54c78c4-ede3-439a-8829-ee9e9e4db94e",
   "metadata": {},
   "source": [
    "# Calculation of Costs Polygon Analysis\n"
   ]
  },
  {
   "cell_type": "markdown",
   "id": "b05890ff-0f4f-4096-8738-232397787165",
   "metadata": {},
   "source": [
    "## EC2 - local\n",
    "\n",
    "Instance type: r5.2xlarge\n",
    "\n",
    "Price: 0,504 USD / H\n",
    "\n",
    "### layers: 25\n",
    "\n",
    "Max. Requests/s: <b>17.2</b>\n",
    "\n",
    "### layers: 50\n",
    "\n",
    "Max. Requests/s: <b>7.9</b>"
   ]
  },
  {
   "cell_type": "code",
   "execution_count": 26,
   "id": "fb4795bb-74f9-499c-991e-b48f3709af45",
   "metadata": {},
   "outputs": [
    {
     "name": "stdout",
     "output_type": "stream",
     "text": [
      "25 Layers, Costs per request: 0.00000813953488372093\n"
     ]
    }
   ],
   "source": [
    "requests_per_second_25_l = 17.2\n",
    "requests_per_hour_25_l = requests_per_second_25_l * 60 * 60\n",
    "costs_per_request_ec2_25_l = 0.504 / requests_per_hour_25_l\n",
    "print(f'25 Layers, Costs per request: {costs_per_request_ec2_25_l:.20f}')"
   ]
  },
  {
   "cell_type": "code",
   "execution_count": 27,
   "id": "370e271d-a65d-4105-910b-527de76cdc4e",
   "metadata": {},
   "outputs": [
    {
     "name": "stdout",
     "output_type": "stream",
     "text": [
      "50 Layers, Costs per request: 0.00001772151898734177\n"
     ]
    }
   ],
   "source": [
    "requests_per_second_50_l = 7.9\n",
    "requests_per_hour_50_l = requests_per_second_50_l * 60 * 60\n",
    "costs_per_request_ec2_50_l = 0.504 / requests_per_hour_50_l\n",
    "print(f'50 Layers, Costs per request: {costs_per_request_ec2_50_l:.20f}')"
   ]
  },
  {
   "cell_type": "markdown",
   "id": "79bb013a-43a6-484a-b7f6-7fe77a478db2",
   "metadata": {},
   "source": [
    "### Lambda\n",
    "Mean Execution Time Endpoint: ~ 460 ms\n",
    "\n",
    "Mean Execution Time per layer: 30 ms\n",
    "\n",
    "Number of layers: 25\n",
    "\n",
    "Price: 0,0000166667 USD / Gigabyte-Second \n",
    "\n",
    "Price: 0,20 USD pro 1 Mio. Requests\n",
    "\n",
    "Memory: 1024 MB == 1 GB\n",
    "\n",
    "\n",
    "\n",
    "Api Gateway Price: 1,20 USD / Million"
   ]
  },
  {
   "cell_type": "code",
   "execution_count": 28,
   "id": "f4dba197-b9ca-4f31-8f82-b569daa1ef59",
   "metadata": {},
   "outputs": [],
   "source": [
    "# Constant Variables \n",
    "LAMBDA_PRICE_PER_MS = 0.0000166667 / 1000 # GB can be omitted -> all functions run with 1 GB\n",
    "LAMBDA_PRICE_PER_REQUEST = 0.2 / 1000000\n",
    "API_GW_PRICE_PER_REQUEST = 1.2 / 1000000\n",
    "STEP_FUNCTIONS_PRICE_PER_REQUEST = 0.000001\n",
    "STEP_FUNCTIONS_PRICE_PER_MS = 0.0000001042 / 1000"
   ]
  },
  {
   "cell_type": "code",
   "execution_count": 29,
   "id": "1c451660-0c27-4e6c-b9d9-d0c9b3983b79",
   "metadata": {},
   "outputs": [],
   "source": [
    "def calc_total_step_functions_price(lambda_mean_execution_time_endpoint, lambda_mean_execution_time_per_layer, number_of_layers,\n",
    "                                   step_functions_mean_execution_time, add_api_gw_price: bool = True):\n",
    "\n",
    "    lambda_overall_execution_time = lambda_mean_execution_time_endpoint + (lambda_mean_execution_time_per_layer * number_of_layers)\n",
    "\n",
    "    lambda_price = (lambda_overall_execution_time * LAMBDA_PRICE_PER_MS) + LAMBDA_PRICE_PER_REQUEST\n",
    "    \n",
    "    if add_api_gw_price:\n",
    "        lambda_price += API_GW_PRICE_PER_REQUEST\n",
    "\n",
    "    step_functions_price = (step_functions_mean_execution_time * STEP_FUNCTIONS_PRICE_PER_MS) + STEP_FUNCTIONS_PRICE_PER_REQUEST\n",
    "\n",
    "    total_price = lambda_price + step_functions_price\n",
    "    \n",
    "    return total_price"
   ]
  },
  {
   "cell_type": "code",
   "execution_count": 30,
   "id": "a0b56006-a447-4117-8494-4beb39d1e455",
   "metadata": {},
   "outputs": [],
   "source": [
    "# Execution Variables\n",
    "lambda_mean_execution_time_endpoint = 460 \n",
    "lambda_mean_execution_time_per_layer = 30 \n",
    "number_of_layers = 25\n",
    "step_functions_mean_execution_time = 179"
   ]
  },
  {
   "cell_type": "code",
   "execution_count": 31,
   "id": "87242d10-2cde-4561-bea4-db465755a5b9",
   "metadata": {},
   "outputs": [],
   "source": [
    "lambda_total_price_25_layers = calc_total_step_functions_price(lambda_mean_execution_time_endpoint, lambda_mean_execution_time_per_layer, 25,\n",
    "                                                        step_functions_mean_execution_time)\n",
    "\n",
    "lambda_total_price_50_layers = calc_total_step_functions_price(lambda_mean_execution_time_endpoint, lambda_mean_execution_time_per_layer, 50,\n",
    "                                                        step_functions_mean_execution_time)"
   ]
  },
  {
   "cell_type": "code",
   "execution_count": 32,
   "id": "c7024a8e-55e5-47c9-8e99-89863d6f3f5c",
   "metadata": {},
   "outputs": [
    {
     "name": "stdout",
     "output_type": "stream",
     "text": [
      "25 Layers, Costs per request: 0.00002258535880000000\n",
      "50 Layers, Costs per request: 0.00003508538380000000\n"
     ]
    }
   ],
   "source": [
    "print(f'25 Layers, Costs per request: {lambda_total_price_25_layers:.20f}')\n",
    "print(f'50 Layers, Costs per request: {lambda_total_price_50_layers:.20f}')"
   ]
  },
  {
   "cell_type": "markdown",
   "id": "0abe4a93-f12b-402c-bf89-bc93c0bcab82",
   "metadata": {},
   "source": [
    "## Ratio"
   ]
  },
  {
   "cell_type": "code",
   "execution_count": 33,
   "id": "d569f77c-0122-4d15-ba3f-d1a8a214d6c7",
   "metadata": {},
   "outputs": [
    {
     "data": {
      "text/plain": [
       "2.7747726525714285"
      ]
     },
     "execution_count": 33,
     "metadata": {},
     "output_type": "execute_result"
    }
   ],
   "source": [
    "lambda_total_price_25_layers / costs_per_request_ec2_25_l "
   ]
  },
  {
   "cell_type": "markdown",
   "id": "43349577-0bb8-4441-9bd9-99348b90b452",
   "metadata": {},
   "source": [
    "Result: Lambda price 2.77 times higher than ec2 for 25 Layers"
   ]
  },
  {
   "cell_type": "code",
   "execution_count": 34,
   "id": "85bbd18c-65d9-44c2-b477-b8553306894e",
   "metadata": {},
   "outputs": [
    {
     "data": {
      "text/plain": [
       "1.979818085857143"
      ]
     },
     "execution_count": 34,
     "metadata": {},
     "output_type": "execute_result"
    }
   ],
   "source": [
    "lambda_total_price_50_layers / costs_per_request_ec2_50_l"
   ]
  },
  {
   "cell_type": "markdown",
   "id": "e32a7029-a5c1-41a4-b24d-3faf37a34001",
   "metadata": {},
   "source": [
    "Result: Lambda price 1.97 times higher than ec2  for 25 Layers"
   ]
  },
  {
   "cell_type": "code",
   "execution_count": null,
   "id": "9cf92194-453f-4731-9b77-4476c375c79a",
   "metadata": {},
   "outputs": [],
   "source": []
  }
 ],
 "metadata": {
  "kernelspec": {
   "display_name": "Python 3 (ipykernel)",
   "language": "python",
   "name": "python3"
  },
  "language_info": {
   "codemirror_mode": {
    "name": "ipython",
    "version": 3
   },
   "file_extension": ".py",
   "mimetype": "text/x-python",
   "name": "python",
   "nbconvert_exporter": "python",
   "pygments_lexer": "ipython3",
   "version": "3.8.10"
  }
 },
 "nbformat": 4,
 "nbformat_minor": 5
}
