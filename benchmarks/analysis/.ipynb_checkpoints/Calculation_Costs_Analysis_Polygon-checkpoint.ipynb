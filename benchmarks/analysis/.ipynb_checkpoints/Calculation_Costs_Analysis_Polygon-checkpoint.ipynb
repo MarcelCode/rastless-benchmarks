{
 "cells": [
  {
   "cell_type": "markdown",
   "id": "a54c78c4-ede3-439a-8829-ee9e9e4db94e",
   "metadata": {},
   "source": [
    "# Calculation of Costs Polygon Analysis\n"
   ]
  },
  {
   "cell_type": "markdown",
   "id": "b05890ff-0f4f-4096-8738-232397787165",
   "metadata": {},
   "source": [
    "## EC2 - local\n",
    "\n",
    "Instance type: r5.2xlarge\n",
    "\n",
    "Price: 0,504 USD / H\n",
    "\n",
    "### layers: 25\n",
    "\n",
    "Max. Requests/s: <b>17.2</b>\n",
    "\n",
    "### layers: 50\n",
    "\n",
    "Max. Requests/s: <b>7.9</b>"
   ]
  },
  {
   "cell_type": "code",
   "execution_count": 11,
   "id": "fb4795bb-74f9-499c-991e-b48f3709af45",
   "metadata": {},
   "outputs": [
    {
     "name": "stdout",
     "output_type": "stream",
     "text": [
      "25 Layers, Costs per request: 0.00000813953488372093\n"
     ]
    }
   ],
   "source": [
    "requests_per_second_25_l = 17.2\n",
    "requests_per_hour_25_l = requests_per_second_25_l * 60 * 60\n",
    "costs_per_request_ec2_25_l = 0.504 / requests_per_hour_25_l\n",
    "print(f'25 Layers, Costs per request: {costs_per_request_ec2_25_l:.20f}')"
   ]
  },
  {
   "cell_type": "code",
   "execution_count": 12,
   "id": "370e271d-a65d-4105-910b-527de76cdc4e",
   "metadata": {},
   "outputs": [
    {
     "name": "stdout",
     "output_type": "stream",
     "text": [
      "50 Layers, Costs per request: 0.00001772151898734177\n"
     ]
    }
   ],
   "source": [
    "requests_per_second_50_l = 7.9\n",
    "requests_per_hour_50_l = requests_per_second_50_l * 60 * 60\n",
    "costs_per_request_ec2_50_l = 0.504 / requests_per_hour_50_l\n",
    "print(f'50 Layers, Costs per request: {costs_per_request_ec2_50_l:.20f}')"
   ]
  },
  {
   "cell_type": "markdown",
   "id": "79bb013a-43a6-484a-b7f6-7fe77a478db2",
   "metadata": {},
   "source": [
    "### Lambda\n",
    "Mean Execution Time Endpoint: ~ 460 ms\n",
    "\n",
    "Mean Execution Time per layer: 30 ms\n",
    "\n",
    "Number of layers: 25\n",
    "\n",
    "Price: 0,0000166667 USD / Gigabyte-Second \n",
    "\n",
    "Price: 0,20 USD pro 1 Mio. Requests\n",
    "\n",
    "Memory: 1024 MB == 1 GB\n",
    "\n",
    "\n",
    "\n",
    "Api Gateway Price: 1,20 USD / Million"
   ]
  },
  {
   "cell_type": "code",
   "execution_count": 1,
   "id": "f4dba197-b9ca-4f31-8f82-b569daa1ef59",
   "metadata": {},
   "outputs": [],
   "source": [
    "# Constant Variables \n",
    "lambda_price_per_ms = 0.0000166667 / 1000 # GB can be omitted -> all functions run with 1 GB\n",
    "lambda_price_per_request = 0.2 / 1000000\n",
    "api_gw_price_per_request = 1.2 / 1000000\n",
    "step_functions_price_per_request = 0.000001\n",
    "step_functions_price_per_ms = 0.0000001042 / 1000"
   ]
  },
  {
   "cell_type": "code",
   "execution_count": 3,
   "id": "a0b56006-a447-4117-8494-4beb39d1e455",
   "metadata": {},
   "outputs": [],
   "source": [
    "# Execution Variables\n",
    "lambda_mean_execution_time_endpoint = 460 \n",
    "lambda_mean_execution_time_per_layer = 30 \n",
    "number_of_layers = 25\n",
    "step_functions_mean_execution_time = 178"
   ]
  },
  {
   "cell_type": "code",
   "execution_count": 4,
   "id": "87242d10-2cde-4561-bea4-db465755a5b9",
   "metadata": {},
   "outputs": [],
   "source": [
    "lambda_overall_execution_time = lambda_mean_execution_time_endpoint + (lambda_mean_execution_time_per_layer * number_of_layers)\n",
    "\n",
    "lambda_price = (lambda_overall_execution_time * lambda_price_per_ms) + lambda_price_per_request + api_gw_price_per_request\n",
    "\n",
    "step_functions_price = (step_functions_mean_execution_time * step_functions_price_per_ms) + step_functions_price_per_request\n",
    "\n",
    "total_price = lambda_price + step_functions_price"
   ]
  },
  {
   "cell_type": "code",
   "execution_count": 5,
   "id": "c7024a8e-55e5-47c9-8e99-89863d6f3f5c",
   "metadata": {},
   "outputs": [
    {
     "ename": "NameError",
     "evalue": "name 'costs_per_request_ec2_50_l' is not defined",
     "output_type": "error",
     "traceback": [
      "\u001b[0;31m---------------------------------------------------------------------------\u001b[0m",
      "\u001b[0;31mNameError\u001b[0m                                 Traceback (most recent call last)",
      "Input \u001b[0;32mIn [5]\u001b[0m, in \u001b[0;36m<cell line: 1>\u001b[0;34m()\u001b[0m\n\u001b[0;32m----> 1\u001b[0m \u001b[38;5;28mprint\u001b[39m(\u001b[38;5;124mf\u001b[39m\u001b[38;5;124m'\u001b[39m\u001b[38;5;124m25 Layers, Costs per request: \u001b[39m\u001b[38;5;132;01m{\u001b[39;00mcosts_per_request_ec2_50_l\u001b[38;5;132;01m:\u001b[39;00m\u001b[38;5;124m.20f\u001b[39m\u001b[38;5;132;01m}\u001b[39;00m\u001b[38;5;124m'\u001b[39m)\n",
      "\u001b[0;31mNameError\u001b[0m: name 'costs_per_request_ec2_50_l' is not defined"
     ]
    }
   ],
   "source": [
    "print(f'25 Layers, Costs per request: {total_price:.20f}')"
   ]
  },
  {
   "cell_type": "markdown",
   "id": "0abe4a93-f12b-402c-bf89-bc93c0bcab82",
   "metadata": {},
   "source": [
    "## Ratio"
   ]
  },
  {
   "cell_type": "code",
   "execution_count": 17,
   "id": "d569f77c-0122-4d15-ba3f-d1a8a214d6c7",
   "metadata": {},
   "outputs": [
    {
     "data": {
      "text/plain": [
       "1.1052611218874069"
      ]
     },
     "execution_count": 17,
     "metadata": {},
     "output_type": "execute_result"
    }
   ],
   "source": [
    "costs_per_request_ec2 / price_per_request_lambda "
   ]
  },
  {
   "cell_type": "code",
   "execution_count": null,
   "id": "be9b6729-f8b6-4135-8be2-8a751182a7f1",
   "metadata": {},
   "outputs": [],
   "source": []
  }
 ],
 "metadata": {
  "kernelspec": {
   "display_name": "Python 3 (ipykernel)",
   "language": "python",
   "name": "python3"
  },
  "language_info": {
   "codemirror_mode": {
    "name": "ipython",
    "version": 3
   },
   "file_extension": ".py",
   "mimetype": "text/x-python",
   "name": "python",
   "nbconvert_exporter": "python",
   "pygments_lexer": "ipython3",
   "version": "3.8.10"
  }
 },
 "nbformat": 4,
 "nbformat_minor": 5
}
