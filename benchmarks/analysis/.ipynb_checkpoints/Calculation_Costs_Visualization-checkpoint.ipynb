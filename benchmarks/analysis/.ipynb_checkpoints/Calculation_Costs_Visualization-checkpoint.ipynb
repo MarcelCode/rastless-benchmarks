{
 "cells": [
  {
   "cell_type": "markdown",
   "id": "a54c78c4-ede3-439a-8829-ee9e9e4db94e",
   "metadata": {},
   "source": [
    "# Calculation of costs\n",
    "\n",
    "This is a first calculation for test user_20_spawn-rate_20_runtime_31s from 2022-03-06T22:04:11 with a constant throughput of maximum 20 tasks / second / user"
   ]
  },
  {
   "cell_type": "code",
   "execution_count": 1,
   "id": "a795270e-a77d-4568-ba6f-a1cd262666a2",
   "metadata": {},
   "outputs": [],
   "source": [
    "test_setup = {\"user\": 20, \"spawn_rate\": 20, \"runtime\": \"31s\", \"test_type\": \"visualization\", \"environment\": \"ec2-t2-m\", \"iso_date\": \"2022-03-06T22:04:11\"}"
   ]
  },
  {
   "cell_type": "code",
   "execution_count": 2,
   "id": "f6570994-b4c0-40d1-92d6-1c3adec32f0e",
   "metadata": {},
   "outputs": [],
   "source": [
    "import pandas as pd\n",
    "import sys \n",
    "import seaborn as sns\n",
    "import matplotlib.pyplot as plt\n",
    "sys.path.extend(['../'])\n",
    "\n",
    "from tools import read_stat_history_date, read_stat_history_dates_combined, combine_result, create_pdf_filename\n",
    "\n",
    "sns.set_theme(style=\"darkgrid\")\n",
    "sns.set(rc={'figure.figsize':(10,7)})\n",
    "sns.set_context()\n",
    "sns.set_palette(\"tab10\")"
   ]
  },
  {
   "cell_type": "code",
   "execution_count": 3,
   "id": "55944fe1-1e72-4973-bcc8-bbf74e6b8ec4",
   "metadata": {},
   "outputs": [],
   "source": [
    "system_dfs_combined = read_stat_history_date(**test_setup)"
   ]
  },
  {
   "cell_type": "code",
   "execution_count": 4,
   "id": "52ac35a7-f5f4-4b28-a86a-7ffdb274ebb6",
   "metadata": {},
   "outputs": [
    {
     "data": {
      "image/png": "[encoded data removed]",
      "text/plain": [
       "<Figure size 720x504 with 1 Axes>"
      ]
     },
     "metadata": {},
     "output_type": "display_data"
    }
   ],
   "source": [
    "rastless_df = system_dfs_combined[\"rastless\"]\n",
    "ax = sns.lineplot(data=rastless_df, x=rastless_df.index, y=\"User Count\")\n",
    "ax.set_title('Benchmark Setup')\n",
    "filename = create_pdf_filename(f\"./result_images/{test_setup['test_type']}\", \"user_count\", test_setup)\n",
    "plt.savefig(filename)"
   ]
  },
  {
   "cell_type": "markdown",
   "id": "b05890ff-0f4f-4096-8738-232397787165",
   "metadata": {},
   "source": [
    "# Calculation\n",
    "\n",
    "20 Users constant\n",
    "\n",
    "### EC2\n",
    "Instance type: r5.2xlarge\n",
    "Price: 0,504 USD / H\n",
    "\n"
   ]
  },
  {
   "cell_type": "code",
   "execution_count": 13,
   "id": "fb4795bb-74f9-499c-991e-b48f3709af45",
   "metadata": {},
   "outputs": [
    {
     "data": {
      "text/plain": [
       "'Costs per request: 0.00000353535353535354'"
      ]
     },
     "execution_count": 13,
     "metadata": {},
     "output_type": "execute_result"
    }
   ],
   "source": [
    "requests_per_second = 39.6\n",
    "requests_per_hour = requests_per_second * 60 * 60\n",
    "costs_per_request_ec2 = 0.504 / requests_per_hour\n",
    "'Costs per request: {0:.20f}'.format(costs_per_request_ec2)"
   ]
  },
  {
   "cell_type": "markdown",
   "id": "79bb013a-43a6-484a-b7f6-7fe77a478db2",
   "metadata": {},
   "source": [
    "### Lambda\n",
    "Price: 0,0000166667 USD / Gigabyte-Second \n",
    "\n",
    "Price: 0,20 USD pro 1 Mio. Requests\n",
    "\n",
    "Memory: 1024 MB == 1 GB\n",
    "\n",
    "Billed Duration: ~ 150 ms\n",
    "\n",
    "Api Gateway Price: 1,20 USD / Million"
   ]
  },
  {
   "cell_type": "code",
   "execution_count": 14,
   "id": "a0b56006-a447-4117-8494-4beb39d1e455",
   "metadata": {},
   "outputs": [
    {
     "name": "stdout",
     "output_type": "stream",
     "text": [
      "Costs per request without api gateway costs: 0.00000253333800000000\n",
      "Costs per request with api gateway costs: 0.00000373333800000000\n"
     ]
    }
   ],
   "source": [
    "price_per_ms_exectution = 0.0000166667 / 1000 # Price per MS. Our Function runs with 1 GB thats why we dont care about GB. \n",
    "\n",
    "price_per_request_constant = 0.2 / 1000000 # Constant Price per requests \n",
    "\n",
    "price_per_request_execution = price_per_ms_exectution * 140 # Billed duration around 140 ms --> cloudwatch logs \n",
    "\n",
    "price_per_request_api_gw = 1.2 / 1000000 # Api Gateway Price: 1,20 USD / Million\n",
    "\n",
    "price_per_request_lambda = price_per_request_constant + price_per_request_execution #+ price_per_request_api_gw\n",
    "\n",
    "print('Costs per request without api gateway costs: {0:.20f}'.format(price_per_request_lambda))\n",
    "\n",
    "print('Costs per request with api gateway costs: {0:.20f}'.format(price_per_request_lambda + price_per_request_api_gw))"
   ]
  },
  {
   "cell_type": "markdown",
   "id": "0abe4a93-f12b-402c-bf89-bc93c0bcab82",
   "metadata": {},
   "source": [
    "## Ratio"
   ]
  },
  {
   "cell_type": "code",
   "execution_count": 15,
   "id": "d569f77c-0122-4d15-ba3f-d1a8a214d6c7",
   "metadata": {},
   "outputs": [
    {
     "data": {
      "text/plain": [
       "1.3955317195548067"
      ]
     },
     "execution_count": 15,
     "metadata": {},
     "output_type": "execute_result"
    }
   ],
   "source": [
    "costs_per_request_ec2 / price_per_request_lambda "
   ]
  },
  {
   "cell_type": "code",
   "execution_count": null,
   "id": "be9b6729-f8b6-4135-8be2-8a751182a7f1",
   "metadata": {},
   "outputs": [],
   "source": []
  }
 ],
 "metadata": {
  "kernelspec": {
   "display_name": "Python 3 (ipykernel)",
   "language": "python",
   "name": "python3"
  },
  "language_info": {
   "codemirror_mode": {
    "name": "ipython",
    "version": 3
   },
   "file_extension": ".py",
   "mimetype": "text/x-python",
   "name": "python",
   "nbconvert_exporter": "python",
   "pygments_lexer": "ipython3",
   "version": "3.8.10"
  }
 },
 "nbformat": 4,
 "nbformat_minor": 5
}
